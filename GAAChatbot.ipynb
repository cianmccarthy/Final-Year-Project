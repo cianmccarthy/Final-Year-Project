{
  "nbformat": 4,
  "nbformat_minor": 0,
  "metadata": {
    "colab": {
      "name": "GAAChatbot.ipynb",
      "provenance": [],
      "collapsed_sections": []
    },
    "kernelspec": {
      "name": "python3",
      "display_name": "Python 3"
    },
    "language_info": {
      "name": "python"
    }
  },
  "cells": [
    {
      "cell_type": "code",
      "execution_count": 2,
      "metadata": {
        "id": "z3n3iRc5Cctm",
        "colab": {
          "base_uri": "https://localhost:8080/"
        },
        "outputId": "83f2d15d-011d-44e0-a6e9-a65da2e78edc"
      },
      "outputs": [
        {
          "output_type": "stream",
          "name": "stdout",
          "text": [
            "Collecting chatterbot\n",
            "  Downloading ChatterBot-1.0.8-py2.py3-none-any.whl (63 kB)\n",
            "\u001b[K     |████████████████████████████████| 63 kB 1.6 MB/s \n",
            "\u001b[?25hRequirement already satisfied: pytz in /usr/local/lib/python3.7/dist-packages (from chatterbot) (2022.1)\n",
            "Collecting sqlalchemy<1.4,>=1.3\n",
            "  Downloading SQLAlchemy-1.3.24-cp37-cp37m-manylinux2010_x86_64.whl (1.3 MB)\n",
            "\u001b[K     |████████████████████████████████| 1.3 MB 10.8 MB/s \n",
            "\u001b[?25hRequirement already satisfied: python-dateutil<2.9,>=2.8 in /usr/local/lib/python3.7/dist-packages (from chatterbot) (2.8.2)\n",
            "Collecting mathparse<0.2,>=0.1\n",
            "  Downloading mathparse-0.1.2-py3-none-any.whl (7.2 kB)\n",
            "Requirement already satisfied: six>=1.5 in /usr/local/lib/python3.7/dist-packages (from python-dateutil<2.9,>=2.8->chatterbot) (1.15.0)\n",
            "Installing collected packages: sqlalchemy, mathparse, chatterbot\n",
            "  Attempting uninstall: sqlalchemy\n",
            "    Found existing installation: SQLAlchemy 1.4.35\n",
            "    Uninstalling SQLAlchemy-1.4.35:\n",
            "      Successfully uninstalled SQLAlchemy-1.4.35\n",
            "Successfully installed chatterbot-1.0.8 mathparse-0.1.2 sqlalchemy-1.3.24\n"
          ]
        }
      ],
      "source": [
        "pip install chatterbot"
      ]
    },
    {
      "cell_type": "code",
      "source": [
        "from chatterbot import ChatBot"
      ],
      "metadata": {
        "id": "D5w_3QoxZoO7"
      },
      "execution_count": null,
      "outputs": []
    },
    {
      "cell_type": "code",
      "source": [
        "bot = ChatBot('Marty')"
      ],
      "metadata": {
        "id": "2dq8GkJqZmm9"
      },
      "execution_count": null,
      "outputs": []
    },
    {
      "cell_type": "code",
      "source": [
        "bot = ChatBot(\n",
        "    'Marty',\n",
        "    storage_adapter='chatterbot.storage.SQLStorageAdapter', #connects to sql databases\n",
        "    database_uri='sqlite:///database.sqlite3' #sets up a database for where the phrases in the conversation will be stored\n",
        ")"
      ],
      "metadata": {
        "id": "L-GJBXXSZjN5"
      },
      "execution_count": null,
      "outputs": []
    },
    {
      "cell_type": "code",
      "source": [
        "bot = ChatBot(\n",
        "    'Marty',\n",
        "    storage_adapter='chatterbot.storage.SQLStorageAdapter', read_only = True,\n",
        "    logic_adapters=[\n",
        "        'chatterbot.logic.BestMatch' #selects a response based on the best known match to one of the statements\n",
        "    ],\n",
        "    database_uri='sqlite:///database.sqlite3'\n",
        ")"
      ],
      "metadata": {
        "id": "ihpFccLnCqvK"
      },
      "execution_count": null,
      "outputs": []
    },
    {
      "cell_type": "code",
      "source": [
        "#importing the CSV pack\n",
        "import csv\n",
        "\n",
        "#looping through the csv file to read each phrase and appending it to the array 'small_talk'\n",
        "small_talk = []\n",
        "reader = csv.reader(open(\"responses.csv\"))\n",
        "for i in reader:\n",
        "  print(i[0])\n",
        "  small_talk.append(i[0])\n"
      ],
      "metadata": {
        "id": "4fYHbISWbbtD",
        "colab": {
          "base_uri": "https://localhost:8080/"
        },
        "outputId": "b591d207-be5f-489c-d0e8-f6dd1eb14e0a"
      },
      "execution_count": 1,
      "outputs": [
        {
          "output_type": "stream",
          "name": "stdout",
          "text": [
            "hey\n",
            "hi\n",
            "hello\n",
            "how are you\n",
            "I am good thanks for asking. How can I help you?\n",
            "Yes I can help you find a player\n",
            "Joe Canning played for county Galway for 13 years between 2008 and 2021.\n",
            "Joe Canning is the leading scorer in hurling with 27-485 (566 points) in 62 games. He averaged 9.13 points per game.\n",
            "Henry Shefflin played for county Kilkenny for 15 years between 1999 and 2014.\n",
            "Henry Shefflin is the second leading scorer in hurling with 27-484 (565 points) in 71 games. He averaged 8.0 points per game.\n",
            "Patrick Horgan currently plays for county Cork. He made his hurling debut in 2008 and has been playing for 14 years.\n",
            "Patrick Horgan is the third leading scorer in hurling with 23-432 (501 points) in 61 games. He has averaged 8.21 points per game.\n",
            "TJ Reid currently plays for county Kilkenny. He made his hurling debut in 2007 and has been playing for 15 years.\n",
            "TJ reid is the fourth leading scorer in hurling with 26-369 (477 points) in 65 games. He has averaged 7.3 points per game.\n",
            "Eddie Keher played for county Kilkenny for 18 years between 1959 and 1977.\n",
            "Eddie Keher is the fifth leading scorer in hurling with 35-336 (441 points) in 50 games. He averaged 8.78 points per game.\n",
            "Eoin Kelly played for county Tipperary for 13 years between 2000 and 2014.\n",
            "Eoin Kelly  is the sixth leading scorer in hurling with 21-369 (432 points) in 63 games. He averaged 7.3 points per game.\n",
            "Seamus Callanan currently plays for Tipperary. He made his hurling debut in 2008 and has been playing for 14 years.\n"
          ]
        }
      ]
    },
    {
      "cell_type": "code",
      "source": [
        "print(small_talk)"
      ],
      "metadata": {
        "id": "ZLZgEOm2hth-",
        "colab": {
          "base_uri": "https://localhost:8080/"
        },
        "outputId": "f7ac276a-3345-4abd-aa60-d781b34e1b9f"
      },
      "execution_count": null,
      "outputs": [
        {
          "output_type": "stream",
          "name": "stdout",
          "text": [
            "['hey', 'hi', 'hello', 'how are you', 'I am good thanks for asking. How can I help you?', 'Yes I can help you find a player', 'Joe Canning played for county Galway for 13 years between 2008 and 2021.', 'Joe Canning is the leading scorer in hurling with 27-485 (566 points) in 62 games. He averaged 9.13 points per game.', 'Henry Shefflin played for county Kilkenny for 15 years between 1999 and 2014.', 'Henry Shefflin is the second leading scorer in hurling with 27-484 (565 points) in 71 games. He averaged 8.0 points per game.', 'Patrick Horgan currently plays for county Cork. He made his hurling debut in 2008 and has been playing for 14 years.', 'Patrick Horgan is the third leading scorer in hurling with 23-432 (501 points) in 61 games. He has averaged 8.21 points per game.', 'TJ Reid currently plays for county Kilkenny. He made his hurling debut in 2007 and has been playing for 15 years.', 'TJ reid is the fourth leading scorer in hurling with 26-369 (477 points) in 65 games. He has averaged 7.3 points per game.', 'Eddie Keher played for county Kilkenny for 18 years between 1959 and 1977.', 'Eddie Keher is the fifth leading scorer in hurling with 35-336 (441 points) in 50 games. He averaged 8.78 points per game.', 'Eoin Kelly played for county Tipperary for 13 years between 2000 and 2014.', 'Eoin Kelly  is the sixth leading scorer in hurling with 21-369 (432 points) in 63 games. He averaged 7.3 points per game.', 'Seamus Callanan currently plays for county Tipperary. He made his hurling debut in 2008 and has been playing for 14 years.']\n"
          ]
        }
      ]
    },
    {
      "cell_type": "code",
      "source": [
        "from chatterbot.trainers import ListTrainer\n",
        "#setting up a variable for the list trainer method which is implemented to my chatbot\n",
        "list_trainer = ListTrainer(bot)\n",
        "\n",
        "#training the chatbot to the phrases in the 'small_talk' array\n",
        "list_trainer.train(small_talk) "
      ],
      "metadata": {
        "colab": {
          "base_uri": "https://localhost:8080/"
        },
        "id": "buR9JuPIbdkA",
        "outputId": "d20c11df-781f-4be8-cbfe-8c4630dc2852"
      },
      "execution_count": null,
      "outputs": [
        {
          "output_type": "stream",
          "name": "stdout",
          "text": [
            "List Trainer: [####################] 100%\n"
          ]
        }
      ]
    },
    {
      "cell_type": "code",
      "source": [
        "# The following loop will execute each time the user enters input\n",
        "while True:\n",
        "    try:\n",
        "        user_input = input()\n",
        "\n",
        "        bot_response = bot.get_response(user_input)\n",
        "\n",
        "        print(bot_response)\n",
        "\n",
        "    # Press ctrl-c or ctrl-d on the keyboard to exit\n",
        "    except (KeyboardInterrupt, EOFError, SystemExit):\n",
        "        break\n",
        "\n",
        "        "
      ],
      "metadata": {
        "id": "YnlnZDZEDMkm",
        "colab": {
          "base_uri": "https://localhost:8080/"
        },
        "outputId": "099d2f90-b7f6-4b30-d9f5-373f869b4e5c"
      },
      "execution_count": null,
      "outputs": [
        {
          "output_type": "stream",
          "name": "stdout",
          "text": [
            "Hello\n",
            "how are you\n",
            "I am good how are you?\n",
            "I am good thanks for asking. How can I help you?\n",
            "How much has Patrick Horgan scored in his hurling career?\n",
            "Patrick Horgan is the third leading scorer in hurling with 23-432 (501 points) in 61 games. He has averaged 8.21 points per game.\n"
          ]
        }
      ]
    }
  ]
}